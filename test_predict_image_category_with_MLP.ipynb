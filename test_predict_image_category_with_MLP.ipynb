{
 "cells": [
  {
   "cell_type": "code",
   "execution_count": 85,
   "metadata": {},
   "outputs": [],
   "source": [
    "import numpy as np\n",
    "import matplotlib.pyplot as plt\n",
    "\n",
    "import torch\n",
    "import torch.nn as nn\n",
    "import torch.optim as optim\n",
    "from torch.utils.data import DataLoader, TensorDataset\n",
    "\n",
    "import DeepMice.utils.data_loader as dl\n",
    "from DeepMice.models.nets import MLPNet\n",
    "from DeepMice.models.train import train_test_classification\n",
    "from DeepMice.utils.data_shuffle import shuffle_and_split_data"
   ]
  },
  {
   "cell_type": "code",
   "execution_count": 86,
   "metadata": {},
   "outputs": [
    {
     "name": "stdout",
     "output_type": "stream",
     "text": [
      "Keys in the data dictionary:\n",
      " dict_keys(['neuron_fluoresence', 'neuron_activity', 'neuron_time', 'running_pandas', 'stim_details_pandas', 'pupil_area_pandas', 'licks_pandas', 'reward_pandas'])\n"
     ]
    }
   ],
   "source": [
    "# read neural data and labels\n",
    "data = dl.load_example_data(path='one_example_session.npy', print_keys=True)\n",
    "\n",
    "stimulus_details = data['stim_details_pandas']\n",
    "nr_frames_after=5 \n",
    "neuron_time = data['neuron_time']\n",
    "activity = data['neuron_activity']\n",
    "[trial_matrix_3d, image_index, is_change] = dl.get_trial_matrix_3d(activity, neuron_time, stimulus_details, nr_frames_after)"
   ]
  },
  {
   "cell_type": "code",
   "execution_count": 87,
   "metadata": {},
   "outputs": [],
   "source": [
    "# reshape (trial x feature) and preprocess\n",
    "nr_trials = trial_matrix_3d.shape[0]\n",
    "trial_matrix = trial_matrix_3d.reshape(nr_trials,-1) \n",
    "# normalize unit activations across trials\n",
    "mean = np.mean(trial_matrix, 0)\n",
    "std = np.std(trial_matrix, 0)\n",
    "trial_matrix = (trial_matrix - mean)/std\n",
    "\n",
    "# split data\n",
    "seed = 2021\n",
    "ratio = 0.2\n",
    "X_test, y_test, X_train, y_train = shuffle_and_split_data(trial_matrix, image_index, ratio, seed)"
   ]
  },
  {
   "cell_type": "code",
   "execution_count": 88,
   "metadata": {},
   "outputs": [],
   "source": [
    "# train_loader and test_loader\n",
    "batch_size = 128\n",
    "g_seed = torch.Generator()\n",
    "g_seed.manual_seed(seed)\n",
    "test_data = TensorDataset(torch.from_numpy(X_test), torch.from_numpy(y_test))\n",
    "test_loader = DataLoader(test_data,\n",
    "                            batch_size=batch_size,\n",
    "                            shuffle=False,\n",
    "                            num_workers=1,\n",
    "                            worker_init_fn=seed_worker,\n",
    "                            generator=g_seed)\n",
    "\n",
    "train_data = TensorDataset(torch.from_numpy(X_train), torch.from_numpy(y_train))\n",
    "train_loader = DataLoader(train_data,\n",
    "                             batch_size=batch_size,\n",
    "                             shuffle=True,\n",
    "                             num_workers=1,\n",
    "                             worker_init_fn=seed_worker,\n",
    "                             generator=g_seed)"
   ]
  },
  {
   "cell_type": "code",
   "execution_count": 89,
   "metadata": {},
   "outputs": [],
   "source": [
    "# set MLP achitecture\n",
    "input_feature_num = X_train.shape[1]\n",
    "hidden_unit_nums = [100, 100]\n",
    "output_feature_num = 9\n",
    "cat_net = MLPNet('ReLU()', input_feature_num, hidden_unit_nums, output_feature_num).to(device)"
   ]
  },
  {
   "cell_type": "code",
   "execution_count": 90,
   "metadata": {},
   "outputs": [
    {
     "data": {
      "text/plain": [
       "'cuda'"
      ]
     },
     "execution_count": 90,
     "metadata": {},
     "output_type": "execute_result"
    }
   ],
   "source": [
    "device = \"cuda\" if torch.cuda.is_available() else \"cpu\"\n",
    "device"
   ]
  },
  {
   "cell_type": "code",
   "execution_count": 91,
   "metadata": {},
   "outputs": [
    {
     "data": {
      "application/vnd.jupyter.widget-view+json": {
       "model_id": "9191f8a80feb4022ad54cda944eda6cc",
       "version_major": 2,
       "version_minor": 0
      },
      "text/plain": [
       "HBox(children=(HTML(value=''), FloatProgress(value=0.0), HTML(value='')))"
      ]
     },
     "metadata": {},
     "output_type": "display_data"
    },
    {
     "name": "stdout",
     "output_type": "stream",
     "text": [
      "\n",
      "\n",
      "Accuracy on the 3841 training samples: 100.00\n",
      "Accuracy on the 960 testing samples: 87.92\n",
      "\n"
     ]
    },
    {
     "data": {
      "image/png": "[encoded data removed]",
      "text/plain": [
       "<Figure size 432x288 with 1 Axes>"
      ]
     },
     "metadata": {
      "needs_background": "light"
     },
     "output_type": "display_data"
    },
    {
     "data": {
      "text/plain": [
       "(100.0, 87.91666666666667)"
      ]
     },
     "execution_count": 91,
     "metadata": {},
     "output_type": "execute_result"
    }
   ],
   "source": [
    "criterion = nn.CrossEntropyLoss()\n",
    "optimizer = optim.Adam(cat_net.parameters(), lr=3e-4)\n",
    "train_test_classification(cat_net, criterion, optimizer, train_loader,\n",
    "                              test_loader, num_epochs=100, verbose=True,\n",
    "                              training_plot=True, device=device)"
   ]
  }
 ],
 "metadata": {
  "kernelspec": {
   "display_name": "Python 3",
   "language": "python",
   "name": "python3"
  },
  "language_info": {
   "codemirror_mode": {
    "name": "ipython",
    "version": 3
   },
   "file_extension": ".py",
   "mimetype": "text/x-python",
   "name": "python",
   "nbconvert_exporter": "python",
   "pygments_lexer": "ipython3",
   "version": "3.8.5"
  }
 },
 "nbformat": 4,
 "nbformat_minor": 4
}
